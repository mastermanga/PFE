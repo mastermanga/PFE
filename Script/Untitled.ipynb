{
 "cells": [
  {
   "cell_type": "markdown",
   "metadata": {},
   "source": [
    "Effectuer un script/ fonction python simple permettant d’enregistrer une vidéo  et de l’enregistrer dans un dossier. Le script est assez simple mais permettrait d’amorcer l’enregistrement vidéo couplée avec le modèle d’analyse ( execution du script → analyse par le modèle)\n",
    "\n",
    "Il est possible d’améliorer le script en configurant la durée de capture, informer l’utilisateur combien de captures ont été prises ou d’autres paramètres intéressant."
   ]
  },
  {
   "cell_type": "code",
   "execution_count": 1,
   "metadata": {},
   "outputs": [],
   "source": [
    "import numpy as np\n",
    "import cv2\n",
    "import time\n",
    "import os\n",
    "import random\n",
    "\n",
    "def read_vid():\n",
    "    \n",
    "    name = random.choice(os.listdir(\"../Attaquant/\"))\n",
    "    path = \"../Attaquant/\"+name\n",
    "    cap = cv2.VideoCapture(path)\n",
    "    rate = cap.get(cv2.CAP_PROP_FPS)\n",
    "    if (cap.isOpened()== False): \n",
    "          print(\"Error opening video stream or file\")\n",
    "    while(cap.isOpened()):\n",
    "        ret, frame = cap.read(rate)\n",
    "        if ret == True:\n",
    "            time.sleep(1/rate)\n",
    "\n",
    "            cv2.imshow(name,frame)\n",
    "            if cv2.waitKey(1) & 0xFF == ord('q'):\n",
    "                break\n",
    "        else:\n",
    "            break\n",
    "\n",
    "\n",
    "    cap.release()\n",
    "    cv2.destroyAllWindows()\n",
    "\n",
    "    \n",
    "def record_vid(name):\n",
    "    file = '../Gardien/'+ name +'.mp4'\n",
    "    cap = cv2.VideoCapture(0)\n",
    "    t0 = time.time()\n",
    "    if (cap.isOpened() == False): \n",
    "          print(\"Unable to read camera feed\")\n",
    "    frame_width = int(cap.get(3))\n",
    "    frame_height = int(cap.get(4))\n",
    "    out = cv2.VideoWriter(file,cv2.VideoWriter_fourcc('M','J','P','G'), 10, (frame_width,frame_height))\n",
    "    while(True):\n",
    "        ret, frame = cap.read()\n",
    "        if ret == True: \n",
    "                out.write(frame)\n",
    "\n",
    "                # Display the resulting frame    \n",
    "                cv2.imshow('frame',frame)\n",
    "\n",
    "                # Press Q on keyboard to stop recording\n",
    "                if cv2.waitKey(1) & 0xFF == ord('q'):\n",
    "                      break\n",
    "\n",
    "                t1 = time.time() # current time\n",
    "                num_seconds = t1 - t0 # diff\n",
    "                if num_seconds > 5:\n",
    "                    break\n",
    "        else:\n",
    "            break  \n",
    "    cap.release()\n",
    "    out.release()\n",
    "    cv2.destroyAllWindows() \n",
    "\n",
    "\n",
    "def analyse():\n",
    "    print(\"analyse\")\n"
   ]
  },
  {
   "cell_type": "code",
   "execution_count": 2,
   "metadata": {},
   "outputs": [
    {
     "name": "stdout",
     "output_type": "stream",
     "text": [
      "../Gardien/seance1/\n",
      "Creation of the directory ../Gardien/seance1/ failed\n",
      "Read video :1\n",
      "Record video :1\n",
      "../Gardien/seance1/seance1_1\n",
      "Read video :2\n",
      "Record video :2\n",
      "../Gardien/seance1/seance1_2\n",
      "Read video :3\n",
      "Record video :3\n",
      "../Gardien/seance1/seance1_3\n",
      "analyse\n"
     ]
    }
   ],
   "source": [
    "def script(iterations, name):\n",
    "    path = \"../Gardien/\" + name\n",
    "    path = path + \"/\"\n",
    "    print(path)\n",
    "    try:\n",
    "        os.mkdir(path)\n",
    "    except OSError:\n",
    "        print (\"Creation of the directory %s failed\" % path)\n",
    "    else:\n",
    "        print (\"Successfully created the directory %s \" % path)\n",
    "        \n",
    "    for n in range(1, iterations+1):\n",
    "        print(\"Read video :\" + str(n))\n",
    "        read_vid()\n",
    "        print(\"Record video :\" + str(n))\n",
    "        vid = path + name + '_'+ str(n)\n",
    "        print(vid)\n",
    "        record_vid(vid)\n",
    "    analyse()\n",
    "    \n",
    "\n",
    "iterations = 3\n",
    "name = \"seance1\"\n",
    "    \n",
    "script(iterations,name)   "
   ]
  },
  {
   "cell_type": "code",
   "execution_count": null,
   "metadata": {},
   "outputs": [],
   "source": []
  },
  {
   "cell_type": "code",
   "execution_count": null,
   "metadata": {},
   "outputs": [],
   "source": []
  }
 ],
 "metadata": {
  "kernelspec": {
   "display_name": "Python 3",
   "language": "python",
   "name": "python3"
  },
  "language_info": {
   "codemirror_mode": {
    "name": "ipython",
    "version": 3
   },
   "file_extension": ".py",
   "mimetype": "text/x-python",
   "name": "python",
   "nbconvert_exporter": "python",
   "pygments_lexer": "ipython3",
   "version": "3.7.9"
  }
 },
 "nbformat": 4,
 "nbformat_minor": 4
}
